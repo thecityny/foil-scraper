{
 "cells": [
  {
   "cell_type": "code",
   "execution_count": 1,
   "id": "0cce5e31",
   "metadata": {},
   "outputs": [],
   "source": [
    "import requests\n",
    "from bs4 import BeautifulSoup\n",
    "import pandas as pd\n",
    "import urllib3\n",
    "urllib3.disable_warnings()\n",
    "import numpy as np\n",
    "import datetime as dt     \n",
    "date = dt.date.today\n",
    "# 60 city agencies"
   ]
  },
  {
   "cell_type": "code",
   "execution_count": 2,
   "id": "71c09af8",
   "metadata": {},
   "outputs": [],
   "source": [
    "# url=\"https://a860-openrecords.nyc.gov/request/view_all\"\n",
    "# pagination=requests.get(url)\n",
    "# page_no=BeautifulSoup(pagination.text)"
   ]
  },
  {
   "cell_type": "code",
   "execution_count": 5,
   "id": "5e6590b7",
   "metadata": {},
   "outputs": [
    {
     "name": "stderr",
     "output_type": "stream",
     "text": [
      "/var/folders/09/0pcf7rgs7c38nk2clfp7p_5w0000gq/T/ipykernel_4592/2226896029.py:34: SettingWithCopyWarning: \n",
      "A value is trying to be set on a copy of a slice from a DataFrame.\n",
      "Try using .loc[row_indexer,col_indexer] = value instead\n",
      "\n",
      "See the caveats in the documentation: https://pandas.pydata.org/pandas-docs/stable/user_guide/indexing.html#returning-a-view-versus-a-copy\n",
      "  days30['url_end_date']=days30.url_end_date.str.replace(\"%2F31%2F\", \"%2F30%2F\")\n"
     ]
    },
    {
     "ename": "AttributeError",
     "evalue": "'DataFrame' object has no attribute 'date'",
     "output_type": "error",
     "traceback": [
      "\u001b[0;31m---------------------------------------------------------------------------\u001b[0m",
      "\u001b[0;31mAttributeError\u001b[0m                            Traceback (most recent call last)",
      "\u001b[0;32m/var/folders/09/0pcf7rgs7c38nk2clfp7p_5w0000gq/T/ipykernel_4592/2226896029.py\u001b[0m in \u001b[0;36m<module>\u001b[0;34m\u001b[0m\n\u001b[1;32m     41\u001b[0m \u001b[0;34m\u001b[0m\u001b[0m\n\u001b[1;32m     42\u001b[0m \u001b[0;31m# final_dates['start_date']=\u001b[0m\u001b[0;34m\u001b[0m\u001b[0;34m\u001b[0m\u001b[0m\n\u001b[0;32m---> 43\u001b[0;31m pd.to_datetime(final_dates.replace('date_rec_from=', \"\", regex=True)\\\n\u001b[0m\u001b[1;32m     44\u001b[0m                \u001b[0;34m.\u001b[0m\u001b[0mreplace\u001b[0m\u001b[0;34m(\u001b[0m\u001b[0;34m\"date_rec_to\"\u001b[0m\u001b[0;34m,\u001b[0m \u001b[0;34m\"\"\u001b[0m\u001b[0;34m,\u001b[0m \u001b[0mregex\u001b[0m\u001b[0;34m=\u001b[0m\u001b[0;32mTrue\u001b[0m\u001b[0;34m)\u001b[0m\u001b[0;34m.\u001b[0m\u001b[0mreplace\u001b[0m\u001b[0;34m(\u001b[0m\u001b[0;34m\"%2F\"\u001b[0m\u001b[0;34m,\u001b[0m \u001b[0;34m\"-\"\u001b[0m\u001b[0;34m,\u001b[0m\u001b[0mregex\u001b[0m\u001b[0;34m=\u001b[0m\u001b[0;32mTrue\u001b[0m\u001b[0;34m)\u001b[0m\u001b[0;31m\\\u001b[0m\u001b[0;34m\u001b[0m\u001b[0;34m\u001b[0m\u001b[0m\n\u001b[1;32m     45\u001b[0m                .date.str.split(\"&=\", expand=True)[0])\n",
      "\u001b[0;32m/usr/local/lib/python3.9/site-packages/pandas/core/generic.py\u001b[0m in \u001b[0;36m__getattr__\u001b[0;34m(self, name)\u001b[0m\n\u001b[1;32m   5485\u001b[0m         ):\n\u001b[1;32m   5486\u001b[0m             \u001b[0;32mreturn\u001b[0m \u001b[0mself\u001b[0m\u001b[0;34m[\u001b[0m\u001b[0mname\u001b[0m\u001b[0;34m]\u001b[0m\u001b[0;34m\u001b[0m\u001b[0;34m\u001b[0m\u001b[0m\n\u001b[0;32m-> 5487\u001b[0;31m         \u001b[0;32mreturn\u001b[0m \u001b[0mobject\u001b[0m\u001b[0;34m.\u001b[0m\u001b[0m__getattribute__\u001b[0m\u001b[0;34m(\u001b[0m\u001b[0mself\u001b[0m\u001b[0;34m,\u001b[0m \u001b[0mname\u001b[0m\u001b[0;34m)\u001b[0m\u001b[0;34m\u001b[0m\u001b[0;34m\u001b[0m\u001b[0m\n\u001b[0m\u001b[1;32m   5488\u001b[0m \u001b[0;34m\u001b[0m\u001b[0m\n\u001b[1;32m   5489\u001b[0m     \u001b[0;32mdef\u001b[0m \u001b[0m__setattr__\u001b[0m\u001b[0;34m(\u001b[0m\u001b[0mself\u001b[0m\u001b[0;34m,\u001b[0m \u001b[0mname\u001b[0m\u001b[0;34m:\u001b[0m \u001b[0mstr\u001b[0m\u001b[0;34m,\u001b[0m \u001b[0mvalue\u001b[0m\u001b[0;34m)\u001b[0m \u001b[0;34m->\u001b[0m \u001b[0;32mNone\u001b[0m\u001b[0;34m:\u001b[0m\u001b[0;34m\u001b[0m\u001b[0;34m\u001b[0m\u001b[0m\n",
      "\u001b[0;31mAttributeError\u001b[0m: 'DataFrame' object has no attribute 'date'"
     ]
    }
   ],
   "source": [
    "# creating a dates dataset that can be used to grab monthly data because of 9000 entry limit\n",
    "\n",
    "d22=pd.DataFrame({\"month\":np.arange(1,4),\"end_date\":31, \"year\":\"2022\"})\n",
    "d22['month']=(\"0\"+d22.month.astype(str)).str.replace(\"010\", \"10\").replace(\"011\", \"11\").replace(\"012\", \"12\")\n",
    "d21=pd.DataFrame({\"month\":np.arange(1,13),\"end_date\":31, \"year\":\"2021\"})\n",
    "d21['month']=(\"0\"+d21.month.astype(str)).str.replace(\"010\", \"10\").replace(\"011\", \"11\").replace(\"012\", \"12\")\n",
    "d20=pd.DataFrame({\"month\":np.arange(1,13), \"end_date\":31, \"year\":\"2020\"})\n",
    "d20['month']=(\"0\"+d20.month.astype(str)).str.replace(\"010\", \"10\").replace(\"011\", \"11\").replace(\"012\", \"12\")\n",
    "d19=pd.DataFrame({\"month\":np.arange(1,13), \"end_date\":31, \"year\":\"2019\"})\n",
    "d19['month']=(\"0\"+d19.month.astype(str)).str.replace(\"010\", \"10\").replace(\"011\", \"11\").replace(\"012\", \"12\")\n",
    "d18=pd.DataFrame({\"month\":np.arange(1,13),\"end_date\":31, \"year\":\"2018\"})\n",
    "d18['month']=(\"0\"+d18.month.astype(str)).str.replace(\"010\", \"10\").replace(\"011\", \"11\").replace(\"012\", \"12\")\n",
    "\n",
    "# 03%2F01%2F2022\n",
    "d22[\"url_start_date\"]=d22.month+\"%2F01%2F\"+\"2022\"\n",
    "d21[\"url_start_date\"]=d21.month+\"%2F01%2F\"+\"2021\"\n",
    "d20[\"url_start_date\"]=d20.month+\"%2F01%2F\"+\"2020\"\n",
    "d19[\"url_start_date\"]=d19.month+\"%2F01%2F\"+\"2019\"\n",
    "d18[\"url_start_date\"]=d18.month+\"%2F01%2F\"+\"2018\"\n",
    "\n",
    "# 03%2F01%2F2022\n",
    "d22[\"url_end_date\"]=(d22.month+\"%2F31%2F\"+\"2022\").str.replace(\"02%2F31%2F\",\"02%2F28%2F\")\n",
    "d21[\"url_end_date\"]=(d21.month+\"%2F31%2F\"+\"2021\").str.replace(\"02%2F31%2F\",\"02%2F28%2F\")\n",
    "d20[\"url_end_date\"]=(d20.month+\"%2F31%2F\"+\"2020\").str.replace(\"02%2F31%2F\",\"02%2F28%2F\")\n",
    "d19[\"url_end_date\"]=(d19.month+\"%2F31%2F\"+\"2019\").str.replace(\"02%2F31%2F\",\"02%2F28%2F\")\n",
    "d18[\"url_end_date\"]=(d18.month+\"%2F31%2F\"+\"2018\").str.replace(\"02%2F31%2F\",\"02%2F28%2F\")\n",
    "d22['url_end_date']=d22.url_end_date.str.replace(\"02%2F31%2F\",\"02%2F28%2F\")\n",
    "\n",
    "merged=pd.concat([d22, d21, d20, d19, d18])\n",
    "\n",
    "days30=merged[merged.month.isin([\"04\", \"06\",\"09\",\"11\"])]\n",
    "days31=merged[~merged.month.isin([\"04\", \"06\",\"09\",\"11\"])]\n",
    "\n",
    "days30['url_end_date']=days30.url_end_date.str.replace(\"%2F31%2F\", \"%2F30%2F\")\n",
    "final_dates=pd.concat([days30, days31]).reset_index(drop=True)\n",
    "final_dates=final_dates[[\"url_start_date\", \"url_end_date\"]]\n",
    "\n",
    "final_dates['dates']=\"date_rec_from=\"+final_dates.url_start_date+\"&date_rec_to=\"+ final_dates.url_end_date\n",
    "\n",
    "# final_dates.to_csv(\"data/dates.csv\", index=False)\n",
    "\n",
    "# final_dates['start_date']=\n",
    "pd.to_datetime(final_dates.replace('date_rec_from=', \"\", regex=True)\\\n",
    "               .replace(\"date_rec_to\", \"\", regex=True).replace(\"%2F\", \"-\",regex=True)\\\n",
    "               .date.str.split(\"&=\", expand=True)[0])"
   ]
  },
  {
   "cell_type": "code",
   "execution_count": 14,
   "id": "a0b813c6",
   "metadata": {},
   "outputs": [
    {
     "name": "stdout",
     "output_type": "stream",
     "text": [
      "date_rec_from=04%2F01%2F2021&date_rec_to=04%2F30%2F2021 5813\n",
      "date_rec_from=06%2F01%2F2021&date_rec_to=06%2F30%2F2021 11789\n",
      "date_rec_from=09%2F01%2F2021&date_rec_to=09%2F30%2F2021 16817\n",
      "date_rec_from=11%2F01%2F2021&date_rec_to=11%2F30%2F2021 22182\n",
      "date_rec_from=04%2F01%2F2020&date_rec_to=04%2F30%2F2020 25553\n",
      "date_rec_from=06%2F01%2F2020&date_rec_to=06%2F30%2F2020 30345\n",
      "date_rec_from=09%2F01%2F2020&date_rec_to=09%2F30%2F2020 36292\n",
      "date_rec_from=11%2F01%2F2020&date_rec_to=11%2F30%2F2020 41444\n",
      "date_rec_from=04%2F01%2F2019&date_rec_to=04%2F30%2F2019 46072\n",
      "date_rec_from=06%2F01%2F2019&date_rec_to=06%2F30%2F2019 50560\n",
      "date_rec_from=09%2F01%2F2019&date_rec_to=09%2F30%2F2019 55014\n",
      "date_rec_from=11%2F01%2F2019&date_rec_to=11%2F30%2F2019 60080\n",
      "date_rec_from=04%2F01%2F2018&date_rec_to=04%2F30%2F2018 62184\n",
      "date_rec_from=06%2F01%2F2018&date_rec_to=06%2F30%2F2018 66830\n",
      "date_rec_from=09%2F01%2F2018&date_rec_to=09%2F30%2F2018 70355\n",
      "date_rec_from=11%2F01%2F2018&date_rec_to=11%2F30%2F2018 74357\n",
      "date_rec_from=01%2F01%2F2022&date_rec_to=01%2F31%2F2022 79636\n",
      "date_rec_from=02%2F01%2F2022&date_rec_to=02%2F28%2F2022 85317\n",
      "date_rec_from=03%2F01%2F2022&date_rec_to=03%2F31%2F2022 91113\n",
      "date_rec_from=01%2F01%2F2021&date_rec_to=01%2F31%2F2021 96723\n",
      "date_rec_from=02%2F01%2F2021&date_rec_to=02%2F28%2F2021 101976\n",
      "date_rec_from=03%2F01%2F2021&date_rec_to=03%2F31%2F2021 108676\n",
      "date_rec_from=05%2F01%2F2021&date_rec_to=05%2F31%2F2021 114175\n",
      "date_rec_from=07%2F01%2F2021&date_rec_to=07%2F31%2F2021 120097\n",
      "date_rec_from=08%2F01%2F2021&date_rec_to=08%2F31%2F2021 125497\n",
      "date_rec_from=10%2F01%2F2021&date_rec_to=10%2F31%2F2021 130932\n",
      "date_rec_from=12%2F01%2F2021&date_rec_to=12%2F31%2F2021 136226\n",
      "date_rec_from=01%2F01%2F2020&date_rec_to=01%2F31%2F2020 141515\n",
      "date_rec_from=02%2F01%2F2020&date_rec_to=02%2F28%2F2020 146150\n",
      "date_rec_from=03%2F01%2F2020&date_rec_to=03%2F31%2F2020 150420\n",
      "date_rec_from=05%2F01%2F2020&date_rec_to=05%2F31%2F2020 154120\n",
      "date_rec_from=07%2F01%2F2020&date_rec_to=07%2F31%2F2020 159887\n",
      "date_rec_from=08%2F01%2F2020&date_rec_to=08%2F31%2F2020 165430\n",
      "date_rec_from=10%2F01%2F2020&date_rec_to=10%2F31%2F2020 172076\n",
      "date_rec_from=12%2F01%2F2020&date_rec_to=12%2F31%2F2020 177607\n",
      "date_rec_from=01%2F01%2F2019&date_rec_to=01%2F31%2F2019 181902\n",
      "date_rec_from=02%2F01%2F2019&date_rec_to=02%2F28%2F2019 185700\n",
      "date_rec_from=03%2F01%2F2019&date_rec_to=03%2F31%2F2019 190179\n",
      "date_rec_from=05%2F01%2F2019&date_rec_to=05%2F31%2F2019 194949\n",
      "date_rec_from=07%2F01%2F2019&date_rec_to=07%2F31%2F2019 199694\n",
      "date_rec_from=08%2F01%2F2019&date_rec_to=08%2F31%2F2019 204616\n",
      "date_rec_from=10%2F01%2F2019&date_rec_to=10%2F31%2F2019 209650\n",
      "date_rec_from=12%2F01%2F2019&date_rec_to=12%2F31%2F2019 214159\n",
      "date_rec_from=01%2F01%2F2018&date_rec_to=01%2F31%2F2018 215196\n",
      "date_rec_from=02%2F01%2F2018&date_rec_to=02%2F28%2F2018 216648\n",
      "date_rec_from=03%2F01%2F2018&date_rec_to=03%2F31%2F2018 218651\n",
      "date_rec_from=05%2F01%2F2018&date_rec_to=05%2F31%2F2018 223070\n",
      "date_rec_from=07%2F01%2F2018&date_rec_to=07%2F31%2F2018 227040\n",
      "date_rec_from=08%2F01%2F2018&date_rec_to=08%2F31%2F2018 231431\n",
      "date_rec_from=10%2F01%2F2018&date_rec_to=10%2F31%2F2018 235703\n",
      "date_rec_from=12%2F01%2F2018&date_rec_to=12%2F31%2F2018 239049\n"
     ]
    }
   ],
   "source": [
    "final_dates=pd.read_csv(\"data/dates.csv\")\n",
    "\n",
    "base=\"https://a860-openrecords.nyc.gov/search/requests?query=&title=on&agency_request_summary=on&open=on&closed=on&\"\n",
    "sum_counter=0\n",
    "table_list=[]\n",
    "\n",
    "monthly_list=[]\n",
    "\n",
    "for link in final_dates.dates: \n",
    "    URLs=f\"{base}{link}&agency_ein=&size=50&tz_name=America%2FNew_York&start=\"\n",
    "\n",
    "    headers = {\n",
    "        'User-Agent': 'Mozilla/5.0 (Windows NT 6.1) AppleWebKit/537.36 (KHTML, like Gecko)\\\n",
    "        Chrome/91.0.4472.77 Safari/537.36',\n",
    "    }\n",
    "    response = requests.get(URLs,headers=headers,verify=False)\n",
    "    \n",
    "\n",
    "    total_entries=int(response.json()['total'])\n",
    "    sum_counter=sum_counter+total_entries\n",
    "    \n",
    "    print(link, sum_counter)\n",
    "    \n",
    "    monthly_dict={}\n",
    "    monthly_dict['date']=link\n",
    "    monthly_dict['foil_count']=sum_counter\n",
    "    \n",
    "    monthly_list.append(monthly_dict)\n",
    "\n",
    "    \n",
    "    headers = {\n",
    "        'User-Agent': 'Mozilla/5.0 (Windows NT 6.1) AppleWebKit/537.36 (KHTML, like Gecko)\\\n",
    "        Chrome/91.0.4472.77 Safari/537.36',\n",
    "    }\n",
    "\n",
    "\n",
    "    for i in np.arange(0, total_entries, 50):\n",
    "        response = requests.get(f\"{base}{link}&agency_ein=&size=50&tz_name=America%2FNew_York&start={i}\",\n",
    "                                headers=headers,verify=False)\n",
    "        doc=BeautifulSoup(response.json()['results'])\n",
    "        for tr in doc.find_all('tr'):\n",
    "            table_dict={}\n",
    "            table_dict['status']=tr.find_all('td')[0].text.strip()\n",
    "            table_dict['foil_id']=tr.find_all('td')[1].text.strip()\n",
    "            table_dict['date_submitted']=tr.find_all('td')[2].text.strip()\n",
    "            table_dict['title']=tr.find_all('td')[3].text.strip()\n",
    "            table_dict['ass_agency']=tr.find_all('td')[4].text.strip()\n",
    "            table_dict['due_date']=tr.find_all('td')[5].text.strip()\n",
    "            table_dict['href_id']=tr.find_all('td')[3].find('a')['href'].strip()\n",
    "            table_list.append(table_dict)\n",
    "    \n",
    "\n",
    "\n",
    "df=pd.DataFrame(table_list)\n",
    "\n",
    "# url pattern: https://a860-openrecords.nyc.gov/request/view/FOIL-2022-057-03974\n",
    "\n",
    "df['foil_link']='https://a860-openrecords.nyc.gov'+df.href_id\n",
    "df['date_submitted']=pd.to_datetime(df.date_submitted)\n",
    "df['due_date']=pd.to_datetime(df.due_date)\n",
    "df=df.sort_values(\"date_submitted\").reset_index(drop=True)\n",
    "\n",
    "monthly_count=pd.DataFrame(monthly_list)"
   ]
  },
  {
   "cell_type": "code",
   "execution_count": 15,
   "id": "2d7c4902",
   "metadata": {},
   "outputs": [],
   "source": [
    "#records as of 4:10 pm on March 25=238965\n",
    "df.to_csv(f\"data/foil_records_20180101_{str(date())}.csv\", index=False)"
   ]
  },
  {
   "cell_type": "code",
   "execution_count": 16,
   "id": "8c0e5a7a",
   "metadata": {},
   "outputs": [],
   "source": [
    "monthly_records=monthly_count.copy()"
   ]
  },
  {
   "cell_type": "code",
   "execution_count": 17,
   "id": "2901cc99",
   "metadata": {},
   "outputs": [],
   "source": [
    "monthly_records['month_count']=monthly_records.foil_count.diff()"
   ]
  },
  {
   "cell_type": "code",
   "execution_count": 18,
   "id": "4b61f07c",
   "metadata": {},
   "outputs": [
    {
     "name": "stderr",
     "output_type": "stream",
     "text": [
      "/usr/local/lib/python3.9/site-packages/pandas/core/indexing.py:1732: SettingWithCopyWarning: \n",
      "A value is trying to be set on a copy of a slice from a DataFrame\n",
      "\n",
      "See the caveats in the documentation: https://pandas.pydata.org/pandas-docs/stable/user_guide/indexing.html#returning-a-view-versus-a-copy\n",
      "  self._setitem_single_block(indexer, value, name)\n"
     ]
    }
   ],
   "source": [
    "monthly_records.month_count.iloc[0]=monthly_records.foil_count.iloc[0]"
   ]
  },
  {
   "cell_type": "code",
   "execution_count": 19,
   "id": "ed8e9c61",
   "metadata": {},
   "outputs": [],
   "source": [
    "monthly_records['start_date']=pd.to_datetime(monthly_records.replace('date_rec_from=', \"\", regex=True)\\\n",
    ".replace(\"date_rec_to\", \"\", regex=True).replace(\"%2F\", \"-\",regex=True).date.str.split(\"&=\", expand=True)[0])\n",
    "\n",
    "monthly_records['end_date']=pd.to_datetime(monthly_records.replace('date_rec_from=', \"\", regex=True)\\\n",
    ".replace(\"date_rec_to\", \"\", regex=True).replace(\"%2F\", \"-\",regex=True).date.str.split(\"&=\", expand=True)[1])"
   ]
  },
  {
   "cell_type": "code",
   "execution_count": 20,
   "id": "6f31fca1",
   "metadata": {},
   "outputs": [],
   "source": [
    "monthly_records=monthly_records.sort_values(\"start_date\", ascending=False)[[\n",
    "    'start_date', \"end_date\", 'month_count']].reset_index(drop=True)"
   ]
  },
  {
   "cell_type": "code",
   "execution_count": 21,
   "id": "9533b210",
   "metadata": {},
   "outputs": [
    {
     "data": {
      "text/plain": [
       "239049.0"
      ]
     },
     "execution_count": 21,
     "metadata": {},
     "output_type": "execute_result"
    }
   ],
   "source": [
    "monthly_records.month_count.sum()"
   ]
  },
  {
   "cell_type": "code",
   "execution_count": 23,
   "id": "c0342cde",
   "metadata": {},
   "outputs": [],
   "source": [
    "monthly_records.to_csv(f\"data/monthly_records_20180101_{str(date())}.csv\", index=False)"
   ]
  },
  {
   "cell_type": "code",
   "execution_count": null,
   "id": "3823277e",
   "metadata": {},
   "outputs": [],
   "source": []
  }
 ],
 "metadata": {
  "kernelspec": {
   "display_name": "Python 3",
   "language": "python",
   "name": "python3"
  },
  "language_info": {
   "codemirror_mode": {
    "name": "ipython",
    "version": 3
   },
   "file_extension": ".py",
   "mimetype": "text/x-python",
   "name": "python",
   "nbconvert_exporter": "python",
   "pygments_lexer": "ipython3",
   "version": "3.9.10"
  }
 },
 "nbformat": 4,
 "nbformat_minor": 5
}
